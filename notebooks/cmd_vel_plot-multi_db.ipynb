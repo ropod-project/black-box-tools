{
 "cells": [
  {
   "cell_type": "code",
   "execution_count": null,
   "metadata": {},
   "outputs": [],
   "source": [
    "from os.path import expanduser, join\n",
    "import numpy as np\n",
    "import matplotlib.pyplot as plt\n",
    "\n",
    "from black_box_tools.db_utils import DBUtils\n",
    "from black_box_tools.data_utils import DataUtils\n",
    "from black_box_tools.plot_utils import PlotUtils"
   ]
  },
  {
   "cell_type": "markdown",
   "metadata": {},
   "source": [
    "# Parameters\n",
    "\n",
    "The following parameters should be set appropriately so that the correct data are read."
   ]
  },
  {
   "cell_type": "code",
   "execution_count": null,
   "metadata": {},
   "outputs": [],
   "source": [
    "log_db_data_name = 'data'"
   ]
  },
  {
   "cell_type": "markdown",
   "metadata": {},
   "source": [
    "# Database restoring\n",
    "\n",
    "Uncomment the lines below for restoring multiple MongoDB databases."
   ]
  },
  {
   "cell_type": "code",
   "execution_count": null,
   "metadata": {
    "scrolled": true
   },
   "outputs": [],
   "source": [
    "# data_dirs = ['/path/to/db/dump/1', '/path/to/db/dump/2']\n",
    "# subdb_names = ['db1', 'db2']\n",
    "# DBUtils.restore_subdbs(db_name=log_db_data_name,\n",
    "#                        data_dirs=data_dirs,\n",
    "#                        subdb_names=subdb_names)"
   ]
  },
  {
   "cell_type": "markdown",
   "metadata": {},
   "source": [
    "We now read the metadata of the sub-databases so that we can generate appropriate multi-database plots later."
   ]
  },
  {
   "cell_type": "code",
   "execution_count": null,
   "metadata": {},
   "outputs": [],
   "source": [
    "subdb_metadata = DBUtils.get_subdb_metadata(log_db_data_name)"
   ]
  },
  {
   "cell_type": "markdown",
   "metadata": {},
   "source": [
    "# Data parsing\n",
    "\n",
    "We first read the data of interest - in this case the velocity commands."
   ]
  },
  {
   "cell_type": "code",
   "execution_count": null,
   "metadata": {},
   "outputs": [],
   "source": [
    "cmd_vel_docs = DBUtils.get_subdb_docs(log_db_data_name, 'ros_ropod_cmd_vel', subdb_metadata)\n",
    "\n",
    "timestamps = {}\n",
    "x_velocities = {}\n",
    "y_velocities = {}\n",
    "theta_velocities = {}\n",
    "for subdb in cmd_vel_docs:\n",
    "    timestamps[subdb] = DataUtils.get_all_measurements(cmd_vel_docs[subdb], 'timestamp')\n",
    "    x_velocities[subdb] = DataUtils.get_all_measurements(cmd_vel_docs[subdb], 'linear/x')\n",
    "    y_velocities[subdb] = DataUtils.get_all_measurements(cmd_vel_docs[subdb], 'linear/y')\n",
    "    theta_velocities[subdb] = DataUtils.get_all_measurements(cmd_vel_docs[subdb], 'angular/z')"
   ]
  },
  {
   "cell_type": "markdown",
   "metadata": {},
   "source": [
    "# Data plotting"
   ]
  },
  {
   "cell_type": "code",
   "execution_count": null,
   "metadata": {
    "scrolled": true
   },
   "outputs": [],
   "source": [
    "fig = plt.figure(figsize=(20,5))\n",
    "\n",
    "last_index = 0\n",
    "for subdb in cmd_vel_docs:\n",
    "    subdb_indices = np.linspace(last_index, last_index+len(timestamps[subdb]), len(timestamps[subdb]))\n",
    "    PlotUtils.subplot_data(fig=fig, subplot_params=(1,3,1),\n",
    "                           timestamps=subdb_indices,\n",
    "                           data=x_velocities[subdb],\n",
    "                           x_label='t',\n",
    "                           y_label='Velocity ($m/s$)',\n",
    "                           data_label=subdb)\n",
    "\n",
    "    PlotUtils.subplot_data(fig=fig, subplot_params=(1,3,2),\n",
    "                           timestamps=subdb_indices,\n",
    "                           data=y_velocities[subdb],\n",
    "                           x_label='t',\n",
    "                           y_label='Velocity ($m/s$)',\n",
    "                           data_label=subdb)\n",
    "\n",
    "    PlotUtils.subplot_data(fig=fig, subplot_params=(1,3,3),\n",
    "                           timestamps=subdb_indices,\n",
    "                           data=theta_velocities[subdb],\n",
    "                           x_label='t',\n",
    "                           y_label='Velocity ($rad/s$)',\n",
    "                           data_label=subdb)\n",
    "\n",
    "    last_index += len(timestamps[subdb])\n",
    "\n",
    "plt.show()"
   ]
  }
 ],
 "metadata": {
  "kernelspec": {
   "display_name": "Python 3",
   "language": "python",
   "name": "python3"
  },
  "language_info": {
   "codemirror_mode": {
    "name": "ipython",
    "version": 3
   },
   "file_extension": ".py",
   "mimetype": "text/x-python",
   "name": "python",
   "nbconvert_exporter": "python",
   "pygments_lexer": "ipython3",
   "version": "3.5.2"
  }
 },
 "nbformat": 4,
 "nbformat_minor": 2
}
