{
 "cells": [
  {
   "cell_type": "code",
   "execution_count": null,
   "metadata": {},
   "outputs": [],
   "source": [
    "from os.path import expanduser, join\n",
    "import numpy as np\n",
    "import matplotlib.pyplot as plt\n",
    "\n",
    "from black_box_tools.db_utils import DBUtils\n",
    "from black_box_tools.data_utils import DataUtils, Filters\n",
    "from black_box_tools.plot_utils import PlotUtils"
   ]
  },
  {
   "cell_type": "markdown",
   "metadata": {},
   "source": [
    "# Parameters\n",
    "\n",
    "The following parameters should be set appropriately so that the correct data are read."
   ]
  },
  {
   "cell_type": "code",
   "execution_count": null,
   "metadata": {},
   "outputs": [],
   "source": [
    "log_db_data_name = 'logs'\n",
    "number_of_smart_wheels = 4"
   ]
  },
  {
   "cell_type": "markdown",
   "metadata": {},
   "source": [
    "# Database restoring\n",
    "\n",
    "Uncomment the lines below for restoring the MongoDB database."
   ]
  },
  {
   "cell_type": "code",
   "execution_count": null,
   "metadata": {
    "scrolled": true
   },
   "outputs": [],
   "source": [
    "# log_db_data_path = join(expanduser('~'), log_db_data_name)\n",
    "# DBUtils.restore_db(log_db_data_path)"
   ]
  },
  {
   "cell_type": "markdown",
   "metadata": {},
   "source": [
    "# Data parsing\n",
    "\n",
    "We first read the data of interest - in this case the measurements from the smart wheel sensors."
   ]
  },
  {
   "cell_type": "code",
   "execution_count": null,
   "metadata": {},
   "outputs": [],
   "source": [
    "sw_data_docs = DBUtils.get_all_docs(log_db_data_name, 'ros_sw_ethercat_parser_data')\n",
    "\n",
    "timestamps = DataUtils.get_all_measurements(sw_data_docs, 'timestamp')\n",
    "\n",
    "# we extract all current measurements\n",
    "wheel1_currents = DataUtils.get_all_measurements(sw_data_docs,\n",
    "                                                 'sensors/*/current_1_q',\n",
    "                                                 number_of_smart_wheels,\n",
    "                                                 data_filter=Filters.MEDIAN)\n",
    "wheel2_currents = DataUtils.get_all_measurements(sw_data_docs,\n",
    "                                                 'sensors/*/current_2_q',\n",
    "                                                 number_of_smart_wheels,\n",
    "                                                 data_filter=Filters.MEDIAN)\n",
    "\n",
    "# we extract all voltage measurements\n",
    "wheel1_voltages = DataUtils.get_all_measurements(sw_data_docs,\n",
    "                                                 'sensors/*/voltage_1',\n",
    "                                                 number_of_smart_wheels,\n",
    "                                                 data_filter=Filters.MEDIAN)\n",
    "wheel2_voltages = DataUtils.get_all_measurements(sw_data_docs,\n",
    "                                                 'sensors/*/voltage_2',\n",
    "                                                 number_of_smart_wheels,\n",
    "                                                 data_filter=Filters.MEDIAN)\n",
    "\n",
    "# we extract all velocity measurements\n",
    "wheel1_velocities = DataUtils.get_all_measurements(sw_data_docs,\n",
    "                                                   'sensors/*/velocity_1',\n",
    "                                                   number_of_smart_wheels,\n",
    "                                                   data_filter=Filters.MEDIAN)\n",
    "wheel2_velocities = DataUtils.get_all_measurements(sw_data_docs,\n",
    "                                                   'sensors/*/velocity_2',\n",
    "                                                   number_of_smart_wheels,\n",
    "                                                   data_filter=Filters.MEDIAN)\n",
    "pivot_velocities = DataUtils.get_all_measurements(sw_data_docs,\n",
    "                                                  'sensors/*/velocity_pivot',\n",
    "                                                  number_of_smart_wheels,\n",
    "                                                  data_filter=Filters.MEDIAN)\n",
    "\n",
    "# we extract all acceleration measurements from the wheel IMUs\n",
    "x_accelerations = DataUtils.get_all_measurements(sw_data_docs,\n",
    "                                                 'sensors/*/accel_x',\n",
    "                                                 number_of_smart_wheels,\n",
    "                                                 data_filter=Filters.MEDIAN)\n",
    "y_accelerations = DataUtils.get_all_measurements(sw_data_docs,\n",
    "                                                 'sensors/*/accel_y',\n",
    "                                                 number_of_smart_wheels,\n",
    "                                                 data_filter=Filters.MEDIAN)\n",
    "z_accelerations = DataUtils.get_all_measurements(sw_data_docs,\n",
    "                                                 'sensors/*/accel_z',\n",
    "                                                 number_of_smart_wheels,\n",
    "                                                 data_filter=Filters.MEDIAN)\n",
    "\n",
    "# we extract all gyro measurements from the wheel IMUs\n",
    "x_gyros = DataUtils.get_all_measurements(sw_data_docs,\n",
    "                                         'sensors/*/gyro_x',\n",
    "                                         number_of_smart_wheels,\n",
    "                                         data_filter=Filters.MEDIAN)\n",
    "y_gyros = DataUtils.get_all_measurements(sw_data_docs,\n",
    "                                         'sensors/*/gyro_y',\n",
    "                                         number_of_smart_wheels,\n",
    "                                         data_filter=Filters.MEDIAN)\n",
    "z_gyros = DataUtils.get_all_measurements(sw_data_docs,\n",
    "                                         'sensors/*/gyro_z',\n",
    "                                         number_of_smart_wheels,\n",
    "                                         data_filter=Filters.MEDIAN)"
   ]
  },
  {
   "cell_type": "markdown",
   "metadata": {},
   "source": [
    "We additionally get any logged events for annotating the data."
   ]
  },
  {
   "cell_type": "code",
   "execution_count": null,
   "metadata": {},
   "outputs": [],
   "source": [
    "event_docs = DBUtils.get_all_docs(log_db_data_name, 'ros_ropod_event')\n",
    "event_timestamps = DataUtils.get_all_measurements(event_docs, 'timestamp')"
   ]
  },
  {
   "cell_type": "markdown",
   "metadata": {},
   "source": [
    "# Data plotting"
   ]
  },
  {
   "cell_type": "markdown",
   "metadata": {},
   "source": [
    "## Wheel currents"
   ]
  },
  {
   "cell_type": "code",
   "execution_count": null,
   "metadata": {},
   "outputs": [],
   "source": [
    "fig = plt.figure(figsize=(20, 8))\n",
    "fig.add_subplot(1,2,1)\n",
    "\n",
    "data_labels = ['wheel1_current_sw{0}'.format(i+1) for i in range(number_of_smart_wheels)]\n",
    "PlotUtils.subplot_data_lists(fig=fig, subplot_params=(1,2,1),\n",
    "                             timestamps=timestamps,\n",
    "                             data=wheel1_currents,\n",
    "                             x_label='t', y_label='Current ($A$)',\n",
    "                             data_labels=data_labels,\n",
    "                             event_timestamps=event_timestamps,\n",
    "                             event_annotation_color='cyan')\n",
    "\n",
    "data_labels = ['wheel2_current_sw{0}'.format(i+1) for i in range(number_of_smart_wheels)]\n",
    "PlotUtils.subplot_data_lists(fig=fig, subplot_params=(1,2,2),\n",
    "                             timestamps=timestamps,\n",
    "                             data=wheel2_currents,\n",
    "                             x_label='t', y_label='Current ($A$)',\n",
    "                             data_labels=data_labels,\n",
    "                             event_timestamps=event_timestamps,\n",
    "                             event_annotation_color='cyan')\n",
    "\n",
    "plt.show()"
   ]
  },
  {
   "cell_type": "markdown",
   "metadata": {},
   "source": [
    "## Wheel voltages"
   ]
  },
  {
   "cell_type": "code",
   "execution_count": null,
   "metadata": {
    "scrolled": true
   },
   "outputs": [],
   "source": [
    "fig = plt.figure(figsize=(20, 8))\n",
    "\n",
    "data_labels = ['wheel1_voltage_sw{0}'.format(i+1) for i in range(number_of_smart_wheels)]\n",
    "PlotUtils.subplot_data_lists(fig=fig, subplot_params=(1,2,1),\n",
    "                             timestamps=timestamps,\n",
    "                             data=wheel1_voltages,\n",
    "                             x_label='t', y_label='Voltage ($V$)',\n",
    "                             data_labels=data_labels,\n",
    "                             event_timestamps=event_timestamps,\n",
    "                             event_annotation_color='cyan')\n",
    "\n",
    "data_labels = ['wheel2_voltage_sw{0}'.format(i+1) for i in range(number_of_smart_wheels)]\n",
    "PlotUtils.subplot_data_lists(fig=fig, subplot_params=(1,2,2),\n",
    "                             timestamps=timestamps,\n",
    "                             data=wheel2_voltages,\n",
    "                             x_label='t', y_label='Voltage ($V$)',\n",
    "                             data_labels=data_labels,\n",
    "                             event_timestamps=event_timestamps,\n",
    "                             event_annotation_color='cyan')\n",
    "\n",
    "plt.show()"
   ]
  },
  {
   "cell_type": "markdown",
   "metadata": {},
   "source": [
    "## Wheel velocities"
   ]
  },
  {
   "cell_type": "code",
   "execution_count": null,
   "metadata": {},
   "outputs": [],
   "source": [
    "fig = plt.figure(figsize=(20,5))\n",
    "\n",
    "data_labels = ['wheel1_velocity_sw{0}'.format(i+1) for i in range(number_of_smart_wheels)]\n",
    "PlotUtils.subplot_data_lists(fig=fig, subplot_params=(1,3,1),\n",
    "                             timestamps=timestamps,\n",
    "                             data=wheel1_velocities,\n",
    "                             x_label='t', y_label='Velocity ($m/s$)',\n",
    "                             data_labels=data_labels,\n",
    "                             event_timestamps=event_timestamps,\n",
    "                             event_annotation_color='cyan')\n",
    "\n",
    "data_labels = ['wheel2_velocity_sw{0}'.format(i+1) for i in range(number_of_smart_wheels)]\n",
    "PlotUtils.subplot_data_lists(fig=fig, subplot_params=(1,3,2),\n",
    "                             timestamps=timestamps,\n",
    "                             data=wheel2_velocities,\n",
    "                             x_label='t', y_label='Velocity ($m/s$)',\n",
    "                             data_labels=data_labels,\n",
    "                             event_timestamps=event_timestamps,\n",
    "                             event_annotation_color='cyan')\n",
    "\n",
    "data_labels = ['pivot_velocity_sw{0}'.format(i+1) for i in range(number_of_smart_wheels)]\n",
    "PlotUtils.subplot_data_lists(fig=fig, subplot_params=(1,3,3),\n",
    "                             timestamps=timestamps,\n",
    "                             data=pivot_velocities,\n",
    "                             x_label='t', y_label='Velocity ($m/s$)',\n",
    "                             data_labels=data_labels,\n",
    "                             event_timestamps=event_timestamps,\n",
    "                             event_annotation_color='cyan')\n",
    "\n",
    "plt.show()"
   ]
  },
  {
   "cell_type": "markdown",
   "metadata": {},
   "source": [
    "## IMU acceleration measurements"
   ]
  },
  {
   "cell_type": "code",
   "execution_count": null,
   "metadata": {},
   "outputs": [],
   "source": [
    "fig = plt.figure(figsize=(20,5))\n",
    "\n",
    "data_labels = ['acceleration_x{0}'.format(i+1) for i in range(number_of_smart_wheels)]\n",
    "PlotUtils.subplot_data_lists(fig=fig, subplot_params=(1,3,1),\n",
    "                             timestamps=timestamps,\n",
    "                             data=x_accelerations,\n",
    "                             x_label='t', y_label='Acceleration ($m/s^2$)',\n",
    "                             data_labels=data_labels,\n",
    "                             event_timestamps=event_timestamps,\n",
    "                             event_annotation_color='cyan')\n",
    "\n",
    "data_labels = ['acceleration_y{0}'.format(i+1) for i in range(number_of_smart_wheels)]\n",
    "PlotUtils.subplot_data_lists(fig=fig, subplot_params=(1,3,2),\n",
    "                             timestamps=timestamps,\n",
    "                             data=y_accelerations,\n",
    "                             x_label='t', y_label='Acceleration ($m/s^2$)',\n",
    "                             data_labels=data_labels,\n",
    "                             event_timestamps=event_timestamps,\n",
    "                             event_annotation_color='cyan')\n",
    "\n",
    "data_labels = ['acceleration_z{0}'.format(i+1) for i in range(number_of_smart_wheels)]\n",
    "PlotUtils.subplot_data_lists(fig=fig, subplot_params=(1,3,3),\n",
    "                             timestamps=timestamps,\n",
    "                             data=z_accelerations,\n",
    "                             x_label='t', y_label='Acceleration ($m/s^2$)',\n",
    "                             data_labels=data_labels,\n",
    "                             event_timestamps=event_timestamps,\n",
    "                             event_annotation_color='cyan')\n",
    "\n",
    "plt.show()"
   ]
  },
  {
   "cell_type": "markdown",
   "metadata": {},
   "source": [
    "## IMU gyro measurements"
   ]
  },
  {
   "cell_type": "code",
   "execution_count": null,
   "metadata": {},
   "outputs": [],
   "source": [
    "fig = plt.figure(figsize=(20,5))\n",
    "\n",
    "data_labels = ['gyro_x{0}'.format(i+1) for i in range(number_of_smart_wheels)]\n",
    "PlotUtils.subplot_data_lists(fig=fig, subplot_params=(1,3,1),\n",
    "                             timestamps=timestamps,\n",
    "                             data=x_gyros,\n",
    "                             x_label='t', y_label='Velocity ($rad/s$)',\n",
    "                             data_labels=data_labels,\n",
    "                             event_timestamps=event_timestamps,\n",
    "                             event_annotation_color='cyan')\n",
    "\n",
    "data_labels = ['gyro_y{0}'.format(i+1) for i in range(number_of_smart_wheels)]\n",
    "PlotUtils.subplot_data_lists(fig=fig, subplot_params=(1,3,2),\n",
    "                             timestamps=timestamps,\n",
    "                             data=y_gyros,\n",
    "                             x_label='t', y_label='Velocity ($rad/s$)',\n",
    "                             data_labels=data_labels,\n",
    "                             event_timestamps=event_timestamps,\n",
    "                             event_annotation_color='cyan')\n",
    "\n",
    "data_labels = ['gyro_z{0}'.format(i+1) for i in range(number_of_smart_wheels)]\n",
    "PlotUtils.subplot_data_lists(fig=fig, subplot_params=(1,3,3),\n",
    "                             timestamps=timestamps,\n",
    "                             data=z_gyros,\n",
    "                             x_label='t', y_label='Velocity ($rad/s$)',\n",
    "                             data_labels=data_labels,\n",
    "                             event_timestamps=event_timestamps,\n",
    "                             event_annotation_color='cyan')\n",
    "\n",
    "plt.show()"
   ]
  }
 ],
 "metadata": {
  "kernelspec": {
   "display_name": "Python 3",
   "language": "python",
   "name": "python3"
  },
  "language_info": {
   "codemirror_mode": {
    "name": "ipython",
    "version": 3
   },
   "file_extension": ".py",
   "mimetype": "text/x-python",
   "name": "python",
   "nbconvert_exporter": "python",
   "pygments_lexer": "ipython3",
   "version": "3.5.2"
  }
 },
 "nbformat": 4,
 "nbformat_minor": 2
}
