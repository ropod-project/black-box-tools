{
 "cells": [
  {
   "cell_type": "code",
   "execution_count": null,
   "metadata": {},
   "outputs": [],
   "source": [
    "from os.path import expanduser, join\n",
    "import numpy as np\n",
    "import matplotlib.pyplot as plt\n",
    "\n",
    "from black_box_tools.db_utils import DBUtils\n",
    "from black_box_tools.data_utils import DataUtils"
   ]
  },
  {
   "cell_type": "markdown",
   "metadata": {},
   "source": [
    "# Parameters\n",
    "\n",
    "The following parameters should be set appropriately so that the correct data are read."
   ]
  },
  {
   "cell_type": "code",
   "execution_count": null,
   "metadata": {},
   "outputs": [],
   "source": [
    "log_db_data_name = 'data'\n",
    "number_of_smart_wheels = 4"
   ]
  },
  {
   "cell_type": "markdown",
   "metadata": {},
   "source": [
    "# Database restoring\n",
    "\n",
    "Uncomment the lines below for restoring the MongoDB database."
   ]
  },
  {
   "cell_type": "code",
   "execution_count": null,
   "metadata": {
    "scrolled": true
   },
   "outputs": [],
   "source": [
    "# log_db_data_path = join(expanduser('~'), log_db_data_name)\n",
    "# DBUtils.restore_db(log_db_data_path)"
   ]
  },
  {
   "cell_type": "markdown",
   "metadata": {},
   "source": [
    "# Data parsing"
   ]
  },
  {
   "cell_type": "code",
   "execution_count": null,
   "metadata": {},
   "outputs": [],
   "source": [
    "sw_data_docs = DBUtils.get_all_docs(log_db_data_name, 'ros_sw_ethercat_parser_data')\n",
    "\n",
    "# we extract all current measurements\n",
    "wheel1_currents = DataUtils.get_all_measurements(sw_data_docs,\n",
    "                                                 'sensors/*/current_1_q',\n",
    "                                                 number_of_smart_wheels)\n",
    "wheel2_currents = DataUtils.get_all_measurements(sw_data_docs,\n",
    "                                                 'sensors/*/current_2_q',\n",
    "                                                 number_of_smart_wheels)\n",
    "\n",
    "# we extract all voltage measurements\n",
    "wheel1_voltages = DataUtils.get_all_measurements(sw_data_docs,\n",
    "                                                 'sensors/*/voltage_1',\n",
    "                                                 number_of_smart_wheels)\n",
    "wheel2_voltages = DataUtils.get_all_measurements(sw_data_docs,\n",
    "                                                 'sensors/*/voltage_2',\n",
    "                                                 number_of_smart_wheels)\n",
    "\n",
    "# we extract all velocity measurements\n",
    "wheel1_velocities = DataUtils.get_all_measurements(sw_data_docs,\n",
    "                                                   'sensors/*/velocity_1',\n",
    "                                                   number_of_smart_wheels)\n",
    "wheel2_velocities = DataUtils.get_all_measurements(sw_data_docs,\n",
    "                                                   'sensors/*/velocity_2',\n",
    "                                                   number_of_smart_wheels)\n",
    "pivot_velocities = DataUtils.get_all_measurements(sw_data_docs,\n",
    "                                                  'sensors/*/velocity_pivot',\n",
    "                                                  number_of_smart_wheels)\n",
    "\n",
    "# we extract all acceleration measurements from the wheel IMUs\n",
    "x_accelerations = DataUtils.get_all_measurements(sw_data_docs,\n",
    "                                                 'sensors/*/accel_x',\n",
    "                                                 number_of_smart_wheels)\n",
    "y_accelerations = DataUtils.get_all_measurements(sw_data_docs,\n",
    "                                                 'sensors/*/accel_y',\n",
    "                                                 number_of_smart_wheels)\n",
    "z_accelerations = DataUtils.get_all_measurements(sw_data_docs,\n",
    "                                                 'sensors/*/accel_z',\n",
    "                                                 number_of_smart_wheels)\n",
    "\n",
    "# we extract all gyro measurements from the wheel IMUs\n",
    "x_gyros = DataUtils.get_all_measurements(sw_data_docs,\n",
    "                                         'sensors/*/gyro_x',\n",
    "                                         number_of_smart_wheels)\n",
    "y_gyros = DataUtils.get_all_measurements(sw_data_docs,\n",
    "                                         'sensors/*/gyro_y',\n",
    "                                         number_of_smart_wheels)\n",
    "z_gyros = DataUtils.get_all_measurements(sw_data_docs,\n",
    "                                         'sensors/*/gyro_z',\n",
    "                                         number_of_smart_wheels)"
   ]
  },
  {
   "cell_type": "markdown",
   "metadata": {},
   "source": [
    "# Data plotting"
   ]
  },
  {
   "cell_type": "markdown",
   "metadata": {},
   "source": [
    "## Wheel currents"
   ]
  },
  {
   "cell_type": "code",
   "execution_count": null,
   "metadata": {},
   "outputs": [],
   "source": [
    "fig = plt.figure(figsize=(20, 8))\n",
    "fig.add_subplot(1,2,1)\n",
    "for i in range(number_of_smart_wheels):\n",
    "    plt.plot(wheel1_currents[:,i], label='wheel1_current_sw{0}'.format(i+1))\n",
    "plt.xlabel('Measurement', fontsize=30)\n",
    "plt.ylabel('Current ($A$)', fontsize=30)\n",
    "plt.legend()\n",
    "\n",
    "fig.add_subplot(1,2,2)\n",
    "for i in range(number_of_smart_wheels):\n",
    "    plt.plot(wheel2_currents[:,i], label='wheel2_current_sw{0}'.format(i+1))\n",
    "plt.xlabel('Measurement', fontsize=30)\n",
    "plt.ylabel('Current ($A$)', fontsize=30)\n",
    "plt.legend()\n",
    "\n",
    "plt.legend()\n",
    "plt.show()"
   ]
  },
  {
   "cell_type": "markdown",
   "metadata": {},
   "source": [
    "## Wheel voltages"
   ]
  },
  {
   "cell_type": "code",
   "execution_count": null,
   "metadata": {
    "scrolled": true
   },
   "outputs": [],
   "source": [
    "fig = plt.figure(figsize=(20, 8))\n",
    "fig.add_subplot(1,2,1)\n",
    "for i in range(number_of_smart_wheels):\n",
    "    plt.plot(wheel1_voltages[:,i], label='wheel1_voltage_sw{0}'.format(i+1))\n",
    "plt.xlabel('Measurement', fontsize=30)\n",
    "plt.ylabel('Voltage ($V$)', fontsize=30)\n",
    "plt.legend()\n",
    "\n",
    "fig.add_subplot(1,2,2)\n",
    "for i in range(number_of_smart_wheels):\n",
    "    plt.plot(wheel2_voltages[:,i], label='wheel2_voltage_sw{0}'.format(i+1))\n",
    "plt.xlabel('Measurement', fontsize=30)\n",
    "plt.ylabel('Voltage ($V$)', fontsize=30)\n",
    "plt.legend()\n",
    "\n",
    "plt.show()"
   ]
  },
  {
   "cell_type": "markdown",
   "metadata": {},
   "source": [
    "## Wheel velocities"
   ]
  },
  {
   "cell_type": "code",
   "execution_count": null,
   "metadata": {},
   "outputs": [],
   "source": [
    "fig = plt.figure(figsize=(20,5))\n",
    "fig.add_subplot(1,3,1)\n",
    "for i in range(number_of_smart_wheels):\n",
    "    plt.plot(wheel1_velocities[:,i], label='wheel1_velocity_sw{0}'.format(i+1))\n",
    "plt.xlabel('Measurement', fontsize=30)\n",
    "plt.ylabel('Velocity ($m/s$)', fontsize=30)\n",
    "plt.legend()\n",
    "\n",
    "fig.add_subplot(1,3,2)\n",
    "for i in range(number_of_smart_wheels):\n",
    "    plt.plot(wheel2_velocities[:,i], label='wheel2_velocity_sw{0}'.format(i+1))\n",
    "plt.xlabel('Measurement', fontsize=30)\n",
    "plt.ylabel('Velocity ($m/s$)', fontsize=30)\n",
    "plt.legend()\n",
    "\n",
    "fig.add_subplot(1,3,3)\n",
    "for i in range(number_of_smart_wheels):\n",
    "    plt.plot(pivot_velocities[:,i], label='pivot_velocity_sw{0}'.format(i+1))\n",
    "plt.xlabel('Measurement', fontsize=30)\n",
    "plt.ylabel('Velocity ($m/s$)', fontsize=30)\n",
    "plt.legend()\n",
    "\n",
    "plt.show()"
   ]
  },
  {
   "cell_type": "markdown",
   "metadata": {},
   "source": [
    "## IMU acceleration measurements"
   ]
  },
  {
   "cell_type": "code",
   "execution_count": null,
   "metadata": {},
   "outputs": [],
   "source": [
    "fig = plt.figure(figsize=(20,5))\n",
    "fig.add_subplot(1,3,1)\n",
    "for i in range(number_of_smart_wheels):\n",
    "    plt.plot(x_accelerations[:,i], label='acceleration_x{0}'.format(i+1))\n",
    "plt.xlabel('Measurement', fontsize=30)\n",
    "plt.ylabel('Acceleration ($m/s^2$)', fontsize=30)\n",
    "plt.legend()\n",
    "\n",
    "fig.add_subplot(1,3,2)\n",
    "for i in range(number_of_smart_wheels):\n",
    "    plt.plot(y_accelerations[:,i], label='acceleration_y{0}'.format(i+1))\n",
    "plt.xlabel('Measurement', fontsize=30)\n",
    "plt.ylabel('Acceleration ($m/s^2$)', fontsize=30)\n",
    "plt.legend()\n",
    "\n",
    "fig.add_subplot(1,3,3)\n",
    "for i in range(number_of_smart_wheels):\n",
    "    plt.plot(y_accelerations[:,i], label='acceleration_z{0}'.format(i+1))\n",
    "plt.xlabel('Measurement', fontsize=30)\n",
    "plt.ylabel('Acceleration ($m/s^2$)', fontsize=30)\n",
    "plt.legend()\n",
    "\n",
    "plt.show()"
   ]
  },
  {
   "cell_type": "markdown",
   "metadata": {},
   "source": [
    "## IMU gyro measurements"
   ]
  },
  {
   "cell_type": "code",
   "execution_count": null,
   "metadata": {},
   "outputs": [],
   "source": [
    "fig = plt.figure(figsize=(20,5))\n",
    "fig.add_subplot(1,3,1)\n",
    "for i in range(number_of_smart_wheels):\n",
    "    plt.plot(x_accelerations[:,i], label='gyro_x{0}'.format(i+1))\n",
    "plt.xlabel('Measurement', fontsize=30)\n",
    "plt.ylabel('Velocity ($rad/s$)', fontsize=30)\n",
    "plt.legend()\n",
    "\n",
    "fig.add_subplot(1,3,2)\n",
    "for i in range(number_of_smart_wheels):\n",
    "    plt.plot(y_accelerations[:,i], label='gyro_y{0}'.format(i+1))\n",
    "plt.xlabel('Measurement', fontsize=30)\n",
    "plt.ylabel('Velocity ($rad/s$)', fontsize=30)\n",
    "plt.legend()\n",
    "\n",
    "fig.add_subplot(1,3,3)\n",
    "for i in range(number_of_smart_wheels):\n",
    "    plt.plot(y_accelerations[:,i], label='gyro_z{0}'.format(i+1))\n",
    "plt.xlabel('Measurement', fontsize=30)\n",
    "plt.ylabel('Velocity ($rad/s$)', fontsize=30)\n",
    "plt.legend()\n",
    "\n",
    "plt.show()"
   ]
  }
 ],
 "metadata": {
  "kernelspec": {
   "display_name": "Python 3",
   "language": "python",
   "name": "python3"
  },
  "language_info": {
   "codemirror_mode": {
    "name": "ipython",
    "version": 3
   },
   "file_extension": ".py",
   "mimetype": "text/x-python",
   "name": "python",
   "nbconvert_exporter": "python",
   "pygments_lexer": "ipython3",
   "version": "3.5.2"
  }
 },
 "nbformat": 4,
 "nbformat_minor": 2
}
