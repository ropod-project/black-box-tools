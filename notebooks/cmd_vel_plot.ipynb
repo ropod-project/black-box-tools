{
 "cells": [
  {
   "cell_type": "code",
   "execution_count": null,
   "metadata": {},
   "outputs": [],
   "source": [
    "from os.path import expanduser, join\n",
    "import numpy as np\n",
    "import matplotlib.pyplot as plt\n",
    "\n",
    "from black_box_tools.db_utils import DBUtils\n",
    "from black_box_tools.data_utils import DataUtils"
   ]
  },
  {
   "cell_type": "markdown",
   "metadata": {},
   "source": [
    "# Parameters\n",
    "\n",
    "The following parameters should be set appropriately so that the correct data are read."
   ]
  },
  {
   "cell_type": "code",
   "execution_count": null,
   "metadata": {},
   "outputs": [],
   "source": [
    "log_db_data_name = 'data'"
   ]
  },
  {
   "cell_type": "markdown",
   "metadata": {},
   "source": [
    "# Database restoring\n",
    "\n",
    "Uncomment the lines below for restoring the MongoDB database."
   ]
  },
  {
   "cell_type": "code",
   "execution_count": null,
   "metadata": {
    "scrolled": true
   },
   "outputs": [],
   "source": [
    "# log_db_data_path = join(expanduser('~'), log_db_data_name)\n",
    "# DBUtils.restore_db(log_db_data_path)"
   ]
  },
  {
   "cell_type": "markdown",
   "metadata": {},
   "source": [
    "# Data parsing"
   ]
  },
  {
   "cell_type": "code",
   "execution_count": null,
   "metadata": {},
   "outputs": [],
   "source": [
    "cmd_vel_docs = DBUtils.get_all_docs(log_db_data_name, 'ros_ropod_cmd_vel')\n",
    "\n",
    "x_velocities = DataUtils.get_all_measurements(cmd_vel_docs, 'linear/x')\n",
    "y_velocities = DataUtils.get_all_measurements(cmd_vel_docs, 'linear/y')\n",
    "theta_velocities = DataUtils.get_all_measurements(cmd_vel_docs, 'angular/z')"
   ]
  },
  {
   "cell_type": "markdown",
   "metadata": {},
   "source": [
    "# Data plotting"
   ]
  },
  {
   "cell_type": "code",
   "execution_count": null,
   "metadata": {},
   "outputs": [],
   "source": [
    "fig = plt.figure(figsize=(20,5))\n",
    "fig.add_subplot(1,3,1)\n",
    "plt.plot(x_velocities, label='$\\dot{x}$')\n",
    "plt.xlabel('Measurement', fontsize=30)\n",
    "plt.ylabel('Velocity ($m/s$)', fontsize=30)\n",
    "plt.legend()\n",
    "\n",
    "fig.add_subplot(1,3,2)\n",
    "plt.plot(y_velocities, label='$\\dot{y}$')\n",
    "plt.xlabel('Measurement', fontsize=30)\n",
    "plt.ylabel('Velocity ($m/s$)', fontsize=30)\n",
    "plt.legend()\n",
    "\n",
    "fig.add_subplot(1,3,3)\n",
    "plt.plot(theta_velocities, label='$\\dot{\\theta}$')\n",
    "plt.xlabel('Measurement', fontsize=30)\n",
    "plt.ylabel('Velocity ($rad/s$)', fontsize=30)\n",
    "plt.legend()\n",
    "\n",
    "plt.show()"
   ]
  }
 ],
 "metadata": {
  "kernelspec": {
   "display_name": "Python 3",
   "language": "python",
   "name": "python3"
  },
  "language_info": {
   "codemirror_mode": {
    "name": "ipython",
    "version": 3
   },
   "file_extension": ".py",
   "mimetype": "text/x-python",
   "name": "python",
   "nbconvert_exporter": "python",
   "pygments_lexer": "ipython3",
   "version": "3.5.2"
  }
 },
 "nbformat": 4,
 "nbformat_minor": 2
}
